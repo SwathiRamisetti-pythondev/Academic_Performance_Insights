{
  "cells": [
    {
      "cell_type": "code",
      "execution_count": 67,
      "metadata": {
        "colab": {
          "base_uri": "https://localhost:8080/",
          "height": 1000
        },
        "id": "dnjz_RxYzBM6",
        "outputId": "fc192243-2038-4477-ce58-504513e874e3"
      },
      "outputs": [
        {
          "data": {
            "text/html": [
              "<div>\n",
              "<style scoped>\n",
              "    .dataframe tbody tr th:only-of-type {\n",
              "        vertical-align: middle;\n",
              "    }\n",
              "\n",
              "    .dataframe tbody tr th {\n",
              "        vertical-align: top;\n",
              "    }\n",
              "\n",
              "    .dataframe thead th {\n",
              "        text-align: right;\n",
              "    }\n",
              "</style>\n",
              "<table border=\"1\" class=\"dataframe\">\n",
              "  <thead>\n",
              "    <tr style=\"text-align: right;\">\n",
              "      <th></th>\n",
              "      <th>StudentID</th>\n",
              "      <th>Name</th>\n",
              "      <th>Maths</th>\n",
              "      <th>Science</th>\n",
              "      <th>English</th>\n",
              "      <th>Social</th>\n",
              "      <th>Total</th>\n",
              "      <th>Gender</th>\n",
              "    </tr>\n",
              "  </thead>\n",
              "  <tbody>\n",
              "    <tr>\n",
              "      <th>0</th>\n",
              "      <td>1</td>\n",
              "      <td>Alice</td>\n",
              "      <td>78</td>\n",
              "      <td>85</td>\n",
              "      <td>82</td>\n",
              "      <td>80</td>\n",
              "      <td>325</td>\n",
              "      <td>Female</td>\n",
              "    </tr>\n",
              "    <tr>\n",
              "      <th>1</th>\n",
              "      <td>2</td>\n",
              "      <td>Bob</td>\n",
              "      <td>88</td>\n",
              "      <td>79</td>\n",
              "      <td>94</td>\n",
              "      <td>90</td>\n",
              "      <td>351</td>\n",
              "      <td>Male</td>\n",
              "    </tr>\n",
              "    <tr>\n",
              "      <th>2</th>\n",
              "      <td>3</td>\n",
              "      <td>Charlie</td>\n",
              "      <td>67</td>\n",
              "      <td>72</td>\n",
              "      <td>70</td>\n",
              "      <td>68</td>\n",
              "      <td>277</td>\n",
              "      <td>Male</td>\n",
              "    </tr>\n",
              "    <tr>\n",
              "      <th>3</th>\n",
              "      <td>4</td>\n",
              "      <td>Diana</td>\n",
              "      <td>92</td>\n",
              "      <td>95</td>\n",
              "      <td>93</td>\n",
              "      <td>97</td>\n",
              "      <td>377</td>\n",
              "      <td>Female</td>\n",
              "    </tr>\n",
              "    <tr>\n",
              "      <th>4</th>\n",
              "      <td>5</td>\n",
              "      <td>Ethan</td>\n",
              "      <td>56</td>\n",
              "      <td>60</td>\n",
              "      <td>58</td>\n",
              "      <td>65</td>\n",
              "      <td>239</td>\n",
              "      <td>Male</td>\n",
              "    </tr>\n",
              "    <tr>\n",
              "      <th>5</th>\n",
              "      <td>6</td>\n",
              "      <td>Faith</td>\n",
              "      <td>85</td>\n",
              "      <td>83</td>\n",
              "      <td>88</td>\n",
              "      <td>87</td>\n",
              "      <td>343</td>\n",
              "      <td>Female</td>\n",
              "    </tr>\n",
              "    <tr>\n",
              "      <th>6</th>\n",
              "      <td>7</td>\n",
              "      <td>George</td>\n",
              "      <td>75</td>\n",
              "      <td>78</td>\n",
              "      <td>72</td>\n",
              "      <td>74</td>\n",
              "      <td>299</td>\n",
              "      <td>Female</td>\n",
              "    </tr>\n",
              "  </tbody>\n",
              "</table>\n",
              "</div>"
            ],
            "text/plain": [
              "   StudentID     Name  Maths  Science  English  Social  Total  Gender\n",
              "0          1    Alice     78       85       82      80    325  Female\n",
              "1          2      Bob     88       79       94      90    351    Male\n",
              "2          3  Charlie     67       72       70      68    277    Male\n",
              "3          4    Diana     92       95       93      97    377  Female\n",
              "4          5    Ethan     56       60       58      65    239    Male\n",
              "5          6    Faith     85       83       88      87    343  Female\n",
              "6          7   George     75       78       72      74    299  Female"
            ]
          },
          "execution_count": 67,
          "metadata": {},
          "output_type": "execute_result"
        }
      ],
      "source": [
        "# Importing the Dataset\n",
        "\n",
        "import pandas as pd\n",
        "data=pd.read_csv('Marks.csv')\n",
        "#data.drop('Unnamed: 0',axis=1,inplace=True)\n",
        "data"
      ]
    },
    {
      "cell_type": "code",
      "execution_count": 68,
      "metadata": {
        "colab": {
          "base_uri": "https://localhost:8080/"
        },
        "id": "QypEJls2EAWT",
        "outputId": "a228281b-d8ef-43bd-de35-29a7870464e3"
      },
      "outputs": [
        {
          "data": {
            "text/plain": [
              "0    False\n",
              "1    False\n",
              "2    False\n",
              "3    False\n",
              "4    False\n",
              "5    False\n",
              "6    False\n",
              "dtype: bool"
            ]
          },
          "execution_count": 68,
          "metadata": {},
          "output_type": "execute_result"
        }
      ],
      "source": [
        "#Checking For Duplicates\n",
        "\n",
        "data.duplicated()"
      ]
    },
    {
      "cell_type": "code",
      "execution_count": 69,
      "metadata": {
        "id": "l3owd2-WEIVV"
      },
      "outputs": [],
      "source": [
        "#Drop Duplicates\n",
        "\n",
        "data.drop_duplicates(inplace=True)"
      ]
    },
    {
      "cell_type": "code",
      "execution_count": 70,
      "metadata": {
        "id": "e4eCHCG_MO6s"
      },
      "outputs": [],
      "source": [
        "# Fill ing Null Calues With 0\n",
        "\n",
        "data.fillna(0,inplace=True)"
      ]
    },
    {
      "cell_type": "code",
      "execution_count": 71,
      "metadata": {
        "colab": {
          "base_uri": "https://localhost:8080/",
          "height": 363
        },
        "id": "A3Wq75_zC-W-",
        "outputId": "f4acbd51-7b4a-43c4-8cfe-f9fa343bc06c"
      },
      "outputs": [
        {
          "data": {
            "text/html": [
              "<div>\n",
              "<style scoped>\n",
              "    .dataframe tbody tr th:only-of-type {\n",
              "        vertical-align: middle;\n",
              "    }\n",
              "\n",
              "    .dataframe tbody tr th {\n",
              "        vertical-align: top;\n",
              "    }\n",
              "\n",
              "    .dataframe thead th {\n",
              "        text-align: right;\n",
              "    }\n",
              "</style>\n",
              "<table border=\"1\" class=\"dataframe\">\n",
              "  <thead>\n",
              "    <tr style=\"text-align: right;\">\n",
              "      <th></th>\n",
              "      <th>StudentID</th>\n",
              "      <th>Name</th>\n",
              "      <th>Maths</th>\n",
              "      <th>Science</th>\n",
              "      <th>English</th>\n",
              "      <th>Social</th>\n",
              "      <th>Total</th>\n",
              "      <th>Gender</th>\n",
              "    </tr>\n",
              "  </thead>\n",
              "  <tbody>\n",
              "    <tr>\n",
              "      <th>0</th>\n",
              "      <td>1</td>\n",
              "      <td>Alice</td>\n",
              "      <td>78</td>\n",
              "      <td>85</td>\n",
              "      <td>82</td>\n",
              "      <td>80</td>\n",
              "      <td>325</td>\n",
              "      <td>Female</td>\n",
              "    </tr>\n",
              "    <tr>\n",
              "      <th>1</th>\n",
              "      <td>2</td>\n",
              "      <td>Bob</td>\n",
              "      <td>88</td>\n",
              "      <td>79</td>\n",
              "      <td>94</td>\n",
              "      <td>90</td>\n",
              "      <td>351</td>\n",
              "      <td>Male</td>\n",
              "    </tr>\n",
              "    <tr>\n",
              "      <th>2</th>\n",
              "      <td>3</td>\n",
              "      <td>Charlie</td>\n",
              "      <td>67</td>\n",
              "      <td>72</td>\n",
              "      <td>70</td>\n",
              "      <td>68</td>\n",
              "      <td>277</td>\n",
              "      <td>Male</td>\n",
              "    </tr>\n",
              "    <tr>\n",
              "      <th>3</th>\n",
              "      <td>4</td>\n",
              "      <td>Diana</td>\n",
              "      <td>92</td>\n",
              "      <td>95</td>\n",
              "      <td>93</td>\n",
              "      <td>97</td>\n",
              "      <td>377</td>\n",
              "      <td>Female</td>\n",
              "    </tr>\n",
              "    <tr>\n",
              "      <th>4</th>\n",
              "      <td>5</td>\n",
              "      <td>Ethan</td>\n",
              "      <td>56</td>\n",
              "      <td>60</td>\n",
              "      <td>58</td>\n",
              "      <td>65</td>\n",
              "      <td>239</td>\n",
              "      <td>Male</td>\n",
              "    </tr>\n",
              "    <tr>\n",
              "      <th>5</th>\n",
              "      <td>6</td>\n",
              "      <td>Faith</td>\n",
              "      <td>85</td>\n",
              "      <td>83</td>\n",
              "      <td>88</td>\n",
              "      <td>87</td>\n",
              "      <td>343</td>\n",
              "      <td>Female</td>\n",
              "    </tr>\n",
              "    <tr>\n",
              "      <th>6</th>\n",
              "      <td>7</td>\n",
              "      <td>George</td>\n",
              "      <td>75</td>\n",
              "      <td>78</td>\n",
              "      <td>72</td>\n",
              "      <td>74</td>\n",
              "      <td>299</td>\n",
              "      <td>Female</td>\n",
              "    </tr>\n",
              "  </tbody>\n",
              "</table>\n",
              "</div>"
            ],
            "text/plain": [
              "   StudentID     Name  Maths  Science  English  Social  Total  Gender\n",
              "0          1    Alice     78       85       82      80    325  Female\n",
              "1          2      Bob     88       79       94      90    351    Male\n",
              "2          3  Charlie     67       72       70      68    277    Male\n",
              "3          4    Diana     92       95       93      97    377  Female\n",
              "4          5    Ethan     56       60       58      65    239    Male\n",
              "5          6    Faith     85       83       88      87    343  Female\n",
              "6          7   George     75       78       72      74    299  Female"
            ]
          },
          "execution_count": 71,
          "metadata": {},
          "output_type": "execute_result"
        }
      ],
      "source": [
        "# First 10 Students\n",
        "\n",
        "data.head(10)"
      ]
    },
    {
      "cell_type": "code",
      "execution_count": 72,
      "metadata": {
        "colab": {
          "base_uri": "https://localhost:8080/",
          "height": 520
        },
        "id": "izsnjx9VDFbj",
        "outputId": "a2610336-fd5d-40ce-d809-f14806527423"
      },
      "outputs": [
        {
          "data": {
            "text/html": [
              "<div>\n",
              "<style scoped>\n",
              "    .dataframe tbody tr th:only-of-type {\n",
              "        vertical-align: middle;\n",
              "    }\n",
              "\n",
              "    .dataframe tbody tr th {\n",
              "        vertical-align: top;\n",
              "    }\n",
              "\n",
              "    .dataframe thead th {\n",
              "        text-align: right;\n",
              "    }\n",
              "</style>\n",
              "<table border=\"1\" class=\"dataframe\">\n",
              "  <thead>\n",
              "    <tr style=\"text-align: right;\">\n",
              "      <th></th>\n",
              "      <th>StudentID</th>\n",
              "      <th>Name</th>\n",
              "      <th>Maths</th>\n",
              "      <th>Science</th>\n",
              "      <th>English</th>\n",
              "      <th>Social</th>\n",
              "      <th>Total</th>\n",
              "      <th>Gender</th>\n",
              "    </tr>\n",
              "  </thead>\n",
              "  <tbody>\n",
              "  </tbody>\n",
              "</table>\n",
              "</div>"
            ],
            "text/plain": [
              "Empty DataFrame\n",
              "Columns: [StudentID, Name, Maths, Science, English, Social, Total, Gender]\n",
              "Index: []"
            ]
          },
          "execution_count": 72,
          "metadata": {},
          "output_type": "execute_result"
        }
      ],
      "source": [
        "# Female Students\n",
        "\n",
        "data[data['Gender']=='FEMALE']"
      ]
    },
    {
      "cell_type": "code",
      "execution_count": 73,
      "metadata": {
        "colab": {
          "base_uri": "https://localhost:8080/"
        },
        "id": "rvZU11MPDrz9",
        "outputId": "c6210a3c-3952-49a1-b50c-b0ee287daa42"
      },
      "outputs": [
        {
          "data": {
            "text/plain": [
              "0    78\n",
              "1    88\n",
              "2    67\n",
              "3    92\n",
              "4    56\n",
              "5    85\n",
              "6    75\n",
              "Name: Maths, dtype: int64"
            ]
          },
          "execution_count": 73,
          "metadata": {},
          "output_type": "execute_result"
        }
      ],
      "source": [
        "# Display S1 Marks\n",
        "\n",
        "data['Maths']"
      ]
    },
    {
      "cell_type": "code",
      "execution_count": 74,
      "metadata": {
        "colab": {
          "base_uri": "https://localhost:8080/"
        },
        "id": "Pl3VxN8REj0p",
        "outputId": "d49d530a-44ac-4731-ac7f-8baec58204f7"
      },
      "outputs": [
        {
          "data": {
            "text/plain": [
              "Series([], Name: Science, dtype: int64)"
            ]
          },
          "execution_count": 74,
          "metadata": {},
          "output_type": "execute_result"
        }
      ],
      "source": [
        "# Display S2 Marks and Female\n",
        "\n",
        "data[data['Gender'] == \"FEMALE\"]['Science']\n"
      ]
    },
    {
      "cell_type": "code",
      "execution_count": 75,
      "metadata": {
        "colab": {
          "base_uri": "https://localhost:8080/"
        },
        "id": "2UaYXmceHuiX",
        "outputId": "46a6b00c-0268-4878-b20f-d7aaa423dd49"
      },
      "outputs": [
        {
          "data": {
            "text/plain": [
              "Series([], Name: Maths, dtype: int64)"
            ]
          },
          "execution_count": 75,
          "metadata": {},
          "output_type": "execute_result"
        }
      ],
      "source": [
        "# Display Male students  and S1 Marks in Ascending Order\n",
        "\n",
        "data[data['Gender']==\"MALE\"].Maths.sort_values()"
      ]
    },
    {
      "cell_type": "code",
      "execution_count": 76,
      "metadata": {
        "colab": {
          "base_uri": "https://localhost:8080/"
        },
        "id": "XbAvaR5hKkL0",
        "outputId": "6068920b-2cdf-4a88-a902-bfc755af770b"
      },
      "outputs": [],
      "source": [
        "# Display Student Name Staring With S\n",
        "\n",
        "for i in data['Name']:\n",
        "  if i[0]=='S':\n",
        "    print(i)"
      ]
    },
    {
      "cell_type": "code",
      "execution_count": 77,
      "metadata": {
        "colab": {
          "base_uri": "https://localhost:8080/"
        },
        "id": "SQMonS4bLjIg",
        "outputId": "ad5163e7-90d7-4029-a81b-facfff888906"
      },
      "outputs": [],
      "source": [
        "# Display Student Name Ending With N\n",
        "\n",
        "for i in data['Name']:\n",
        "  if i[-1]=='N':\n",
        "    print(i)"
      ]
    },
    {
      "cell_type": "code",
      "execution_count": 78,
      "metadata": {
        "colab": {
          "base_uri": "https://localhost:8080/",
          "height": 1000
        },
        "id": "jdajSDvLLyC6",
        "outputId": "0accc861-3a2a-4eec-a50d-4c337c1db91d"
      },
      "outputs": [
        {
          "data": {
            "text/html": [
              "<div>\n",
              "<style scoped>\n",
              "    .dataframe tbody tr th:only-of-type {\n",
              "        vertical-align: middle;\n",
              "    }\n",
              "\n",
              "    .dataframe tbody tr th {\n",
              "        vertical-align: top;\n",
              "    }\n",
              "\n",
              "    .dataframe thead th {\n",
              "        text-align: right;\n",
              "    }\n",
              "</style>\n",
              "<table border=\"1\" class=\"dataframe\">\n",
              "  <thead>\n",
              "    <tr style=\"text-align: right;\">\n",
              "      <th></th>\n",
              "      <th>Name</th>\n",
              "      <th>Total_Marks</th>\n",
              "    </tr>\n",
              "  </thead>\n",
              "  <tbody>\n",
              "    <tr>\n",
              "      <th>0</th>\n",
              "      <td>Alice</td>\n",
              "      <td>325</td>\n",
              "    </tr>\n",
              "    <tr>\n",
              "      <th>1</th>\n",
              "      <td>Bob</td>\n",
              "      <td>351</td>\n",
              "    </tr>\n",
              "    <tr>\n",
              "      <th>2</th>\n",
              "      <td>Charlie</td>\n",
              "      <td>277</td>\n",
              "    </tr>\n",
              "    <tr>\n",
              "      <th>3</th>\n",
              "      <td>Diana</td>\n",
              "      <td>377</td>\n",
              "    </tr>\n",
              "    <tr>\n",
              "      <th>4</th>\n",
              "      <td>Ethan</td>\n",
              "      <td>239</td>\n",
              "    </tr>\n",
              "    <tr>\n",
              "      <th>5</th>\n",
              "      <td>Faith</td>\n",
              "      <td>343</td>\n",
              "    </tr>\n",
              "    <tr>\n",
              "      <th>6</th>\n",
              "      <td>George</td>\n",
              "      <td>299</td>\n",
              "    </tr>\n",
              "  </tbody>\n",
              "</table>\n",
              "</div>"
            ],
            "text/plain": [
              "      Name  Total_Marks\n",
              "0    Alice          325\n",
              "1      Bob          351\n",
              "2  Charlie          277\n",
              "3    Diana          377\n",
              "4    Ethan          239\n",
              "5    Faith          343\n",
              "6   George          299"
            ]
          },
          "execution_count": 78,
          "metadata": {},
          "output_type": "execute_result"
        }
      ],
      "source": [
        "#Total Marks of Students Under Total Marks Column\n",
        "\n",
        "data['Total_Marks'] = data['Maths'] + data['Science'] + data['English'] + data['Social']\n",
        "datax = data[['Name', 'Total_Marks']]\n",
        "datax\n"
      ]
    },
    {
      "cell_type": "code",
      "execution_count": 79,
      "metadata": {
        "colab": {
          "base_uri": "https://localhost:8080/"
        },
        "id": "BTzRNEeJM8J4",
        "outputId": "9216ab6e-a4bd-4177-b968-a2e6efe71687"
      },
      "outputs": [
        {
          "data": {
            "text/plain": [
              "Series([], Name: Total_Marks, dtype: int64)"
            ]
          },
          "execution_count": 79,
          "metadata": {},
          "output_type": "execute_result"
        }
      ],
      "source": [
        "# Display Total Marks of Female Students\n",
        "\n",
        "data[data['Gender']=='FEMALE'].Total_Marks"
      ]
    },
    {
      "cell_type": "code",
      "execution_count": 80,
      "metadata": {
        "colab": {
          "base_uri": "https://localhost:8080/"
        },
        "id": "K8kcU-4SNquT",
        "outputId": "645b865a-7066-4e52-fb51-634837f84063"
      },
      "outputs": [
        {
          "data": {
            "text/plain": [
              "0    361\n",
              "1    390\n",
              "2    307\n",
              "3    418\n",
              "4    265\n",
              "5    381\n",
              "6    332\n",
              "Name: Percentage, dtype: int64"
            ]
          },
          "execution_count": 80,
          "metadata": {},
          "output_type": "execute_result"
        }
      ],
      "source": [
        "# Percentage of each Student under Percentage Column\n",
        "\n",
        "data['Percentage']=data['Total_Marks']/90*100\n",
        "data['Percentage'].astype('int')"
      ]
    },
    {
      "cell_type": "code",
      "execution_count": 81,
      "metadata": {
        "colab": {
          "base_uri": "https://localhost:8080/",
          "height": 1000
        },
        "id": "jclkk5xmOfcr",
        "outputId": "bfec5ef8-b625-4172-bf87-43ee4d5cf165"
      },
      "outputs": [
        {
          "data": {
            "text/html": [
              "<div>\n",
              "<style scoped>\n",
              "    .dataframe tbody tr th:only-of-type {\n",
              "        vertical-align: middle;\n",
              "    }\n",
              "\n",
              "    .dataframe tbody tr th {\n",
              "        vertical-align: top;\n",
              "    }\n",
              "\n",
              "    .dataframe thead th {\n",
              "        text-align: right;\n",
              "    }\n",
              "</style>\n",
              "<table border=\"1\" class=\"dataframe\">\n",
              "  <thead>\n",
              "    <tr style=\"text-align: right;\">\n",
              "      <th></th>\n",
              "      <th>StudentID</th>\n",
              "      <th>Name</th>\n",
              "      <th>Maths</th>\n",
              "      <th>Science</th>\n",
              "      <th>English</th>\n",
              "      <th>Social</th>\n",
              "      <th>Total</th>\n",
              "      <th>Gender</th>\n",
              "      <th>Total_Marks</th>\n",
              "      <th>Percentage</th>\n",
              "      <th>Grade</th>\n",
              "    </tr>\n",
              "  </thead>\n",
              "  <tbody>\n",
              "    <tr>\n",
              "      <th>0</th>\n",
              "      <td>1</td>\n",
              "      <td>Alice</td>\n",
              "      <td>78</td>\n",
              "      <td>85</td>\n",
              "      <td>82</td>\n",
              "      <td>80</td>\n",
              "      <td>325</td>\n",
              "      <td>Female</td>\n",
              "      <td>325</td>\n",
              "      <td>361.111111</td>\n",
              "      <td>NaN</td>\n",
              "    </tr>\n",
              "    <tr>\n",
              "      <th>1</th>\n",
              "      <td>2</td>\n",
              "      <td>Bob</td>\n",
              "      <td>88</td>\n",
              "      <td>79</td>\n",
              "      <td>94</td>\n",
              "      <td>90</td>\n",
              "      <td>351</td>\n",
              "      <td>Male</td>\n",
              "      <td>351</td>\n",
              "      <td>390.000000</td>\n",
              "      <td>NaN</td>\n",
              "    </tr>\n",
              "    <tr>\n",
              "      <th>2</th>\n",
              "      <td>3</td>\n",
              "      <td>Charlie</td>\n",
              "      <td>67</td>\n",
              "      <td>72</td>\n",
              "      <td>70</td>\n",
              "      <td>68</td>\n",
              "      <td>277</td>\n",
              "      <td>Male</td>\n",
              "      <td>277</td>\n",
              "      <td>307.777778</td>\n",
              "      <td>NaN</td>\n",
              "    </tr>\n",
              "    <tr>\n",
              "      <th>3</th>\n",
              "      <td>4</td>\n",
              "      <td>Diana</td>\n",
              "      <td>92</td>\n",
              "      <td>95</td>\n",
              "      <td>93</td>\n",
              "      <td>97</td>\n",
              "      <td>377</td>\n",
              "      <td>Female</td>\n",
              "      <td>377</td>\n",
              "      <td>418.888889</td>\n",
              "      <td>NaN</td>\n",
              "    </tr>\n",
              "    <tr>\n",
              "      <th>4</th>\n",
              "      <td>5</td>\n",
              "      <td>Ethan</td>\n",
              "      <td>56</td>\n",
              "      <td>60</td>\n",
              "      <td>58</td>\n",
              "      <td>65</td>\n",
              "      <td>239</td>\n",
              "      <td>Male</td>\n",
              "      <td>239</td>\n",
              "      <td>265.555556</td>\n",
              "      <td>NaN</td>\n",
              "    </tr>\n",
              "    <tr>\n",
              "      <th>5</th>\n",
              "      <td>6</td>\n",
              "      <td>Faith</td>\n",
              "      <td>85</td>\n",
              "      <td>83</td>\n",
              "      <td>88</td>\n",
              "      <td>87</td>\n",
              "      <td>343</td>\n",
              "      <td>Female</td>\n",
              "      <td>343</td>\n",
              "      <td>381.111111</td>\n",
              "      <td>NaN</td>\n",
              "    </tr>\n",
              "    <tr>\n",
              "      <th>6</th>\n",
              "      <td>7</td>\n",
              "      <td>George</td>\n",
              "      <td>75</td>\n",
              "      <td>78</td>\n",
              "      <td>72</td>\n",
              "      <td>74</td>\n",
              "      <td>299</td>\n",
              "      <td>Female</td>\n",
              "      <td>299</td>\n",
              "      <td>332.222222</td>\n",
              "      <td>NaN</td>\n",
              "    </tr>\n",
              "  </tbody>\n",
              "</table>\n",
              "</div>"
            ],
            "text/plain": [
              "   StudentID     Name  Maths  Science  English  Social  Total  Gender  \\\n",
              "0          1    Alice     78       85       82      80    325  Female   \n",
              "1          2      Bob     88       79       94      90    351    Male   \n",
              "2          3  Charlie     67       72       70      68    277    Male   \n",
              "3          4    Diana     92       95       93      97    377  Female   \n",
              "4          5    Ethan     56       60       58      65    239    Male   \n",
              "5          6    Faith     85       83       88      87    343  Female   \n",
              "6          7   George     75       78       72      74    299  Female   \n",
              "\n",
              "   Total_Marks  Percentage Grade  \n",
              "0          325  361.111111   NaN  \n",
              "1          351  390.000000   NaN  \n",
              "2          277  307.777778   NaN  \n",
              "3          377  418.888889   NaN  \n",
              "4          239  265.555556   NaN  \n",
              "5          343  381.111111   NaN  \n",
              "6          299  332.222222   NaN  "
            ]
          },
          "execution_count": 81,
          "metadata": {},
          "output_type": "execute_result"
        }
      ],
      "source": [
        "# Grading The Student marks bases on Percentage\n",
        "\n",
        "data.loc[data['Percentage']<40,['Grade']]='F'\n",
        "data.loc[(data['Percentage']<100) & (data['Percentage']>=80),['Grade']]='A'\n",
        "data.loc[(data['Percentage']<80) & (data['Percentage']>=60),['Grade']]='B'\n",
        "data.loc[(data['Percentage']<60) & (data['Percentage']>=40),['Grade']]='C'\n",
        "data"
      ]
    },
    {
      "cell_type": "code",
      "execution_count": 82,
      "metadata": {
        "id": "ddhacYv2V2KV"
      },
      "outputs": [],
      "source": [
        "# Converting final File to CSV\n",
        "\n",
        "data.to_csv('Marks_Final.csv')"
      ]
    },
    {
      "cell_type": "code",
      "execution_count": 83,
      "metadata": {
        "colab": {
          "base_uri": "https://localhost:8080/",
          "height": 430
        },
        "id": "fXwQpuP7V9x0",
        "outputId": "4555eaec-e106-4e4d-dde8-511000fa9ebc"
      },
      "outputs": [
        {
          "data": {
            "image/png": "[encoded data removed]",
            "text/plain": [
              "<Figure size 640x480 with 1 Axes>"
            ]
          },
          "metadata": {},
          "output_type": "display_data"
        }
      ],
      "source": [
        "# Bar Chart To show the Percentage of Female and Male in Class\n",
        "\n",
        "import matplotlib.pyplot as plt\n",
        "\n",
        "avg_marks_by_gender = data.groupby('Gender')[['Maths', 'Science', 'English', 'Social']].mean()\n",
        "avg_marks_by_gender.plot(kind='bar')\n",
        "plt.title(\"Average Marks by Gender\")\n",
        "plt.ylabel(\"Average Marks\")\n",
        "plt.xticks(rotation=0)\n",
        "plt.show()\n"
      ]
    },
    {
      "cell_type": "code",
      "execution_count": 84,
      "metadata": {},
      "outputs": [],
      "source": [
        "data['Grade'] = ['F' if total < 250 else 'P' for total in data['Total']]\n"
      ]
    },
    {
      "cell_type": "code",
      "execution_count": 85,
      "metadata": {
        "colab": {
          "base_uri": "https://localhost:8080/",
          "height": 406
        },
        "id": "UfiZ4mBFYWAw",
        "outputId": "3a9c3d19-7756-4d4c-f8de-b8c96eed38bd"
      },
      "outputs": [
        {
          "data": {
            "image/png": "[encoded data removed]",
            "text/plain": [
              "<Figure size 640x480 with 1 Axes>"
            ]
          },
          "metadata": {},
          "output_type": "display_data"
        }
      ],
      "source": [
        "pass_count = [len(data[data['Grade'] == 'F']), len(data[data['Grade'] != 'F'])]\n",
        "category = ['Fail', 'Pass']\n",
        "colors = ['red', 'green']\n",
        "explode = [0, 0.05]\n",
        "\n",
        "plt.pie(pass_count, labels=category, explode=explode, startangle=90,\n",
        "        colors=colors, autopct='%1.1f%%', wedgeprops={'edgecolor': 'black', 'linewidth': 2})\n",
        "plt.title(\"Pass vs Fail Percentage\")\n",
        "plt.show()\n"
      ]
    }
  ],
  "metadata": {
    "colab": {
      "provenance": []
    },
    "kernelspec": {
      "display_name": "Python 3",
      "name": "python3"
    },
    "language_info": {
      "codemirror_mode": {
        "name": "ipython",
        "version": 3
      },
      "file_extension": ".py",
      "mimetype": "text/x-python",
      "name": "python",
      "nbconvert_exporter": "python",
      "pygments_lexer": "ipython3",
      "version": "3.12.5"
    }
  },
  "nbformat": 4,
  "nbformat_minor": 0
}
